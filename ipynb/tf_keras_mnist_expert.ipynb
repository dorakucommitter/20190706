{
 "cells": [
  {
   "cell_type": "markdown",
   "metadata": {
    "colab_type": "text",
    "id": "k9aQGFsEr2vf"
   },
   "source": [
    "# 参考サイト\n",
    "\n",
    "* [Home - Keras Documentation](https://keras.io/ja/)\n",
    "* [kerasのmnistのサンプルを読んでみる - Qiita](https://qiita.com/ash8h/items/29e24fc617b832fba136)"
   ]
  },
  {
   "cell_type": "markdown",
   "metadata": {
    "colab_type": "text",
    "id": "hRvBy99gslQH"
   },
   "source": [
    "# チュートリアルからの変更点\n",
    "\n",
    "* モデルの可視化ライブラリの都合でtensorflow付属のkerasから通常のkerasに変更"
   ]
  },
  {
   "cell_type": "code",
   "execution_count": 10,
   "metadata": {
    "colab": {},
    "colab_type": "code",
    "id": "vyFlGfF7s7yq"
   },
   "outputs": [],
   "source": [
    "import keras\n",
    "from keras.datasets import mnist\n",
    "from keras.models import Sequential\n",
    "from keras.layers import Dense, Dropout\n",
    "from keras.optimizers import RMSprop"
   ]
  },
  {
   "cell_type": "markdown",
   "metadata": {
    "colab_type": "text",
    "id": "LtKWt-zctx28"
   },
   "source": [
    "1. 結果が可視化しやすいので隠れ層なし（入力層と全結合層だけ）のモデルに変更\n",
    "2.今は精度が落ちてくれた方が都合がいいのでDropoutも無し\n"
   ]
  },
  {
   "cell_type": "code",
   "execution_count": 11,
   "metadata": {
    "colab": {},
    "colab_type": "code",
    "id": "fKvnoOP3rrAq"
   },
   "outputs": [
    {
     "name": "stdout",
     "output_type": "stream",
     "text": [
      "_________________________________________________________________\n",
      "Layer (type)                 Output Shape              Param #   \n",
      "=================================================================\n",
      "flatten_2 (Flatten)          (None, 784)               0         \n",
      "_________________________________________________________________\n",
      "dense_4 (Dense)              (None, 512)               401920    \n",
      "_________________________________________________________________\n",
      "dropout_3 (Dropout)          (None, 512)               0         \n",
      "_________________________________________________________________\n",
      "dense_5 (Dense)              (None, 256)               131328    \n",
      "_________________________________________________________________\n",
      "dropout_4 (Dropout)          (None, 256)               0         \n",
      "_________________________________________________________________\n",
      "dense_6 (Dense)              (None, 10)                2570      \n",
      "=================================================================\n",
      "Total params: 535,818\n",
      "Trainable params: 535,818\n",
      "Non-trainable params: 0\n",
      "_________________________________________________________________\n"
     ]
    }
   ],
   "source": [
    "mnist = keras.datasets.mnist\n",
    "\n",
    "(x_train, y_train),(x_test, y_test) = mnist.load_data()\n",
    "x_train, x_test = x_train / 255.0, x_test / 255.0\n",
    "\n",
    "model = keras.models.Sequential([\n",
    "  keras.layers.Flatten(input_shape=(28, 28)),\n",
    "  keras.layers.Dense(512, activation=\"relu\"),\n",
    "  keras.layers.Dropout(0.2),\n",
    "  keras.layers.Dense(256, activation=\"relu\"),\n",
    "  keras.layers.Dropout(0.2),\n",
    "  keras.layers.Dense(10, activation=\"softmax\")\n",
    "])\n",
    "\n",
    "model.compile(optimizer='adam',\n",
    "              loss='sparse_categorical_crossentropy',\n",
    "              metrics=['accuracy'])\n",
    "model.summary()"
   ]
  },
  {
   "cell_type": "markdown",
   "metadata": {
    "colab_type": "text",
    "id": "FTp_UwitvVYO"
   },
   "source": [
    "## モデルの可視化"
   ]
  },
  {
   "cell_type": "code",
   "execution_count": 12,
   "metadata": {
    "colab": {},
    "colab_type": "code",
    "id": "pV-091pJvSRU"
   },
   "outputs": [
    {
     "data": {
      "image/svg+xml": [
       "<svg height=\"543pt\" viewBox=\"0.00 0.00 271.00 543.00\" width=\"271pt\" xmlns=\"http://www.w3.org/2000/svg\" xmlns:xlink=\"http://www.w3.org/1999/xlink\">\n",
       "<g class=\"graph\" id=\"graph0\" transform=\"scale(1 1) rotate(0) translate(4 539)\">\n",
       "<title>G</title>\n",
       "<polygon fill=\"#ffffff\" points=\"-4,4 -4,-539 267,-539 267,4 -4,4\" stroke=\"transparent\"/>\n",
       "<!-- 140265784709864 -->\n",
       "<g class=\"node\" id=\"node1\">\n",
       "<title>140265784709864</title>\n",
       "<polygon fill=\"none\" points=\".5,-415.5 .5,-461.5 262.5,-461.5 262.5,-415.5 .5,-415.5\" stroke=\"#000000\"/>\n",
       "<text fill=\"#000000\" font-family=\"Times,serif\" font-size=\"14.00\" text-anchor=\"middle\" x=\"55.5\" y=\"-434.8\">flatten_2: Flatten</text>\n",
       "<polyline fill=\"none\" points=\"110.5,-415.5 110.5,-461.5 \" stroke=\"#000000\"/>\n",
       "<text fill=\"#000000\" font-family=\"Times,serif\" font-size=\"14.00\" text-anchor=\"middle\" x=\"138\" y=\"-446.3\">input:</text>\n",
       "<polyline fill=\"none\" points=\"110.5,-438.5 165.5,-438.5 \" stroke=\"#000000\"/>\n",
       "<text fill=\"#000000\" font-family=\"Times,serif\" font-size=\"14.00\" text-anchor=\"middle\" x=\"138\" y=\"-423.3\">output:</text>\n",
       "<polyline fill=\"none\" points=\"165.5,-415.5 165.5,-461.5 \" stroke=\"#000000\"/>\n",
       "<text fill=\"#000000\" font-family=\"Times,serif\" font-size=\"14.00\" text-anchor=\"middle\" x=\"214\" y=\"-446.3\">(None, 28, 28)</text>\n",
       "<polyline fill=\"none\" points=\"165.5,-438.5 262.5,-438.5 \" stroke=\"#000000\"/>\n",
       "<text fill=\"#000000\" font-family=\"Times,serif\" font-size=\"14.00\" text-anchor=\"middle\" x=\"214\" y=\"-423.3\">(None, 784)</text>\n",
       "</g>\n",
       "<!-- 140265783877080 -->\n",
       "<g class=\"node\" id=\"node2\">\n",
       "<title>140265783877080</title>\n",
       "<polygon fill=\"none\" points=\"11.5,-332.5 11.5,-378.5 251.5,-378.5 251.5,-332.5 11.5,-332.5\" stroke=\"#000000\"/>\n",
       "<text fill=\"#000000\" font-family=\"Times,serif\" font-size=\"14.00\" text-anchor=\"middle\" x=\"62.5\" y=\"-351.8\">dense_4: Dense</text>\n",
       "<polyline fill=\"none\" points=\"113.5,-332.5 113.5,-378.5 \" stroke=\"#000000\"/>\n",
       "<text fill=\"#000000\" font-family=\"Times,serif\" font-size=\"14.00\" text-anchor=\"middle\" x=\"141\" y=\"-363.3\">input:</text>\n",
       "<polyline fill=\"none\" points=\"113.5,-355.5 168.5,-355.5 \" stroke=\"#000000\"/>\n",
       "<text fill=\"#000000\" font-family=\"Times,serif\" font-size=\"14.00\" text-anchor=\"middle\" x=\"141\" y=\"-340.3\">output:</text>\n",
       "<polyline fill=\"none\" points=\"168.5,-332.5 168.5,-378.5 \" stroke=\"#000000\"/>\n",
       "<text fill=\"#000000\" font-family=\"Times,serif\" font-size=\"14.00\" text-anchor=\"middle\" x=\"210\" y=\"-363.3\">(None, 784)</text>\n",
       "<polyline fill=\"none\" points=\"168.5,-355.5 251.5,-355.5 \" stroke=\"#000000\"/>\n",
       "<text fill=\"#000000\" font-family=\"Times,serif\" font-size=\"14.00\" text-anchor=\"middle\" x=\"210\" y=\"-340.3\">(None, 512)</text>\n",
       "</g>\n",
       "<!-- 140265784709864&#45;&gt;140265783877080 -->\n",
       "<g class=\"edge\" id=\"edge2\">\n",
       "<title>140265784709864-&gt;140265783877080</title>\n",
       "<path d=\"M131.5,-415.3799C131.5,-407.1745 131.5,-397.7679 131.5,-388.8786\" fill=\"none\" stroke=\"#000000\"/>\n",
       "<polygon fill=\"#000000\" points=\"135.0001,-388.784 131.5,-378.784 128.0001,-388.784 135.0001,-388.784\" stroke=\"#000000\"/>\n",
       "</g>\n",
       "<!-- 140265785478728 -->\n",
       "<g class=\"node\" id=\"node3\">\n",
       "<title>140265785478728</title>\n",
       "<polygon fill=\"none\" points=\"0,-249.5 0,-295.5 263,-295.5 263,-249.5 0,-249.5\" stroke=\"#000000\"/>\n",
       "<text fill=\"#000000\" font-family=\"Times,serif\" font-size=\"14.00\" text-anchor=\"middle\" x=\"62.5\" y=\"-268.8\">dropout_3: Dropout</text>\n",
       "<polyline fill=\"none\" points=\"125,-249.5 125,-295.5 \" stroke=\"#000000\"/>\n",
       "<text fill=\"#000000\" font-family=\"Times,serif\" font-size=\"14.00\" text-anchor=\"middle\" x=\"152.5\" y=\"-280.3\">input:</text>\n",
       "<polyline fill=\"none\" points=\"125,-272.5 180,-272.5 \" stroke=\"#000000\"/>\n",
       "<text fill=\"#000000\" font-family=\"Times,serif\" font-size=\"14.00\" text-anchor=\"middle\" x=\"152.5\" y=\"-257.3\">output:</text>\n",
       "<polyline fill=\"none\" points=\"180,-249.5 180,-295.5 \" stroke=\"#000000\"/>\n",
       "<text fill=\"#000000\" font-family=\"Times,serif\" font-size=\"14.00\" text-anchor=\"middle\" x=\"221.5\" y=\"-280.3\">(None, 512)</text>\n",
       "<polyline fill=\"none\" points=\"180,-272.5 263,-272.5 \" stroke=\"#000000\"/>\n",
       "<text fill=\"#000000\" font-family=\"Times,serif\" font-size=\"14.00\" text-anchor=\"middle\" x=\"221.5\" y=\"-257.3\">(None, 512)</text>\n",
       "</g>\n",
       "<!-- 140265783877080&#45;&gt;140265785478728 -->\n",
       "<g class=\"edge\" id=\"edge3\">\n",
       "<title>140265783877080-&gt;140265785478728</title>\n",
       "<path d=\"M131.5,-332.3799C131.5,-324.1745 131.5,-314.7679 131.5,-305.8786\" fill=\"none\" stroke=\"#000000\"/>\n",
       "<polygon fill=\"#000000\" points=\"135.0001,-305.784 131.5,-295.784 128.0001,-305.784 135.0001,-305.784\" stroke=\"#000000\"/>\n",
       "</g>\n",
       "<!-- 140265785476152 -->\n",
       "<g class=\"node\" id=\"node4\">\n",
       "<title>140265785476152</title>\n",
       "<polygon fill=\"none\" points=\"11.5,-166.5 11.5,-212.5 251.5,-212.5 251.5,-166.5 11.5,-166.5\" stroke=\"#000000\"/>\n",
       "<text fill=\"#000000\" font-family=\"Times,serif\" font-size=\"14.00\" text-anchor=\"middle\" x=\"62.5\" y=\"-185.8\">dense_5: Dense</text>\n",
       "<polyline fill=\"none\" points=\"113.5,-166.5 113.5,-212.5 \" stroke=\"#000000\"/>\n",
       "<text fill=\"#000000\" font-family=\"Times,serif\" font-size=\"14.00\" text-anchor=\"middle\" x=\"141\" y=\"-197.3\">input:</text>\n",
       "<polyline fill=\"none\" points=\"113.5,-189.5 168.5,-189.5 \" stroke=\"#000000\"/>\n",
       "<text fill=\"#000000\" font-family=\"Times,serif\" font-size=\"14.00\" text-anchor=\"middle\" x=\"141\" y=\"-174.3\">output:</text>\n",
       "<polyline fill=\"none\" points=\"168.5,-166.5 168.5,-212.5 \" stroke=\"#000000\"/>\n",
       "<text fill=\"#000000\" font-family=\"Times,serif\" font-size=\"14.00\" text-anchor=\"middle\" x=\"210\" y=\"-197.3\">(None, 512)</text>\n",
       "<polyline fill=\"none\" points=\"168.5,-189.5 251.5,-189.5 \" stroke=\"#000000\"/>\n",
       "<text fill=\"#000000\" font-family=\"Times,serif\" font-size=\"14.00\" text-anchor=\"middle\" x=\"210\" y=\"-174.3\">(None, 256)</text>\n",
       "</g>\n",
       "<!-- 140265785478728&#45;&gt;140265785476152 -->\n",
       "<g class=\"edge\" id=\"edge4\">\n",
       "<title>140265785478728-&gt;140265785476152</title>\n",
       "<path d=\"M131.5,-249.3799C131.5,-241.1745 131.5,-231.7679 131.5,-222.8786\" fill=\"none\" stroke=\"#000000\"/>\n",
       "<polygon fill=\"#000000\" points=\"135.0001,-222.784 131.5,-212.784 128.0001,-222.784 135.0001,-222.784\" stroke=\"#000000\"/>\n",
       "</g>\n",
       "<!-- 140265785478784 -->\n",
       "<g class=\"node\" id=\"node5\">\n",
       "<title>140265785478784</title>\n",
       "<polygon fill=\"none\" points=\"0,-83.5 0,-129.5 263,-129.5 263,-83.5 0,-83.5\" stroke=\"#000000\"/>\n",
       "<text fill=\"#000000\" font-family=\"Times,serif\" font-size=\"14.00\" text-anchor=\"middle\" x=\"62.5\" y=\"-102.8\">dropout_4: Dropout</text>\n",
       "<polyline fill=\"none\" points=\"125,-83.5 125,-129.5 \" stroke=\"#000000\"/>\n",
       "<text fill=\"#000000\" font-family=\"Times,serif\" font-size=\"14.00\" text-anchor=\"middle\" x=\"152.5\" y=\"-114.3\">input:</text>\n",
       "<polyline fill=\"none\" points=\"125,-106.5 180,-106.5 \" stroke=\"#000000\"/>\n",
       "<text fill=\"#000000\" font-family=\"Times,serif\" font-size=\"14.00\" text-anchor=\"middle\" x=\"152.5\" y=\"-91.3\">output:</text>\n",
       "<polyline fill=\"none\" points=\"180,-83.5 180,-129.5 \" stroke=\"#000000\"/>\n",
       "<text fill=\"#000000\" font-family=\"Times,serif\" font-size=\"14.00\" text-anchor=\"middle\" x=\"221.5\" y=\"-114.3\">(None, 256)</text>\n",
       "<polyline fill=\"none\" points=\"180,-106.5 263,-106.5 \" stroke=\"#000000\"/>\n",
       "<text fill=\"#000000\" font-family=\"Times,serif\" font-size=\"14.00\" text-anchor=\"middle\" x=\"221.5\" y=\"-91.3\">(None, 256)</text>\n",
       "</g>\n",
       "<!-- 140265785476152&#45;&gt;140265785478784 -->\n",
       "<g class=\"edge\" id=\"edge5\">\n",
       "<title>140265785476152-&gt;140265785478784</title>\n",
       "<path d=\"M131.5,-166.3799C131.5,-158.1745 131.5,-148.7679 131.5,-139.8786\" fill=\"none\" stroke=\"#000000\"/>\n",
       "<polygon fill=\"#000000\" points=\"135.0001,-139.784 131.5,-129.784 128.0001,-139.784 135.0001,-139.784\" stroke=\"#000000\"/>\n",
       "</g>\n",
       "<!-- 140265785477160 -->\n",
       "<g class=\"node\" id=\"node6\">\n",
       "<title>140265785477160</title>\n",
       "<polygon fill=\"none\" points=\"11.5,-.5 11.5,-46.5 251.5,-46.5 251.5,-.5 11.5,-.5\" stroke=\"#000000\"/>\n",
       "<text fill=\"#000000\" font-family=\"Times,serif\" font-size=\"14.00\" text-anchor=\"middle\" x=\"62.5\" y=\"-19.8\">dense_6: Dense</text>\n",
       "<polyline fill=\"none\" points=\"113.5,-.5 113.5,-46.5 \" stroke=\"#000000\"/>\n",
       "<text fill=\"#000000\" font-family=\"Times,serif\" font-size=\"14.00\" text-anchor=\"middle\" x=\"141\" y=\"-31.3\">input:</text>\n",
       "<polyline fill=\"none\" points=\"113.5,-23.5 168.5,-23.5 \" stroke=\"#000000\"/>\n",
       "<text fill=\"#000000\" font-family=\"Times,serif\" font-size=\"14.00\" text-anchor=\"middle\" x=\"141\" y=\"-8.3\">output:</text>\n",
       "<polyline fill=\"none\" points=\"168.5,-.5 168.5,-46.5 \" stroke=\"#000000\"/>\n",
       "<text fill=\"#000000\" font-family=\"Times,serif\" font-size=\"14.00\" text-anchor=\"middle\" x=\"210\" y=\"-31.3\">(None, 256)</text>\n",
       "<polyline fill=\"none\" points=\"168.5,-23.5 251.5,-23.5 \" stroke=\"#000000\"/>\n",
       "<text fill=\"#000000\" font-family=\"Times,serif\" font-size=\"14.00\" text-anchor=\"middle\" x=\"210\" y=\"-8.3\">(None, 10)</text>\n",
       "</g>\n",
       "<!-- 140265785478784&#45;&gt;140265785477160 -->\n",
       "<g class=\"edge\" id=\"edge6\">\n",
       "<title>140265785478784-&gt;140265785477160</title>\n",
       "<path d=\"M131.5,-83.3799C131.5,-75.1745 131.5,-65.7679 131.5,-56.8786\" fill=\"none\" stroke=\"#000000\"/>\n",
       "<polygon fill=\"#000000\" points=\"135.0001,-56.784 131.5,-46.784 128.0001,-56.784 135.0001,-56.784\" stroke=\"#000000\"/>\n",
       "</g>\n",
       "<!-- 140265785477720 -->\n",
       "<g class=\"node\" id=\"node7\">\n",
       "<title>140265785477720</title>\n",
       "<polygon fill=\"none\" points=\"72.5,-498.5 72.5,-534.5 190.5,-534.5 190.5,-498.5 72.5,-498.5\" stroke=\"#000000\"/>\n",
       "<text fill=\"#000000\" font-family=\"Times,serif\" font-size=\"14.00\" text-anchor=\"middle\" x=\"131.5\" y=\"-512.8\">140265785477720</text>\n",
       "</g>\n",
       "<!-- 140265785477720&#45;&gt;140265784709864 -->\n",
       "<g class=\"edge\" id=\"edge1\">\n",
       "<title>140265785477720-&gt;140265784709864</title>\n",
       "<path d=\"M131.5,-498.4092C131.5,-490.4308 131.5,-480.795 131.5,-471.606\" fill=\"none\" stroke=\"#000000\"/>\n",
       "<polygon fill=\"#000000\" points=\"135.0001,-471.5333 131.5,-461.5333 128.0001,-471.5334 135.0001,-471.5333\" stroke=\"#000000\"/>\n",
       "</g>\n",
       "</g>\n",
       "</svg>"
      ],
      "text/plain": [
       "<IPython.core.display.SVG object>"
      ]
     },
     "execution_count": 12,
     "metadata": {},
     "output_type": "execute_result"
    }
   ],
   "source": [
    "# PNG形式でモデルの構造を出力する\n",
    "from keras.utils import plot_model\n",
    "plot_model(model, show_shapes=True, to_file='model.png')\n",
    "\n",
    "# SVG形式でモデルの構造を出力する\n",
    "# 環境によっては''''pip install pydot''を実行し、pydotをインストールする必要あり\n",
    "from IPython.display import SVG\n",
    "from keras.utils.vis_utils import model_to_dot\n",
    "\n",
    "SVG(model_to_dot(model, show_shapes=True).create(prog='dot', format='svg'))"
   ]
  },
  {
   "cell_type": "markdown",
   "metadata": {
    "colab_type": "text",
    "id": "rJq2ewqxv5vU"
   },
   "source": [
    "## 学習の進み具合のグラフ化"
   ]
  },
  {
   "cell_type": "code",
   "execution_count": 13,
   "metadata": {
    "colab": {},
    "colab_type": "code",
    "id": "Cy62j6ypwEZb"
   },
   "outputs": [
    {
     "name": "stdout",
     "output_type": "stream",
     "text": [
      "\u001b[33mWARNING: The directory '/home/ynaka/.cache/pip/http' or its parent directory is not owned by the current user and the cache has been disabled. Please check the permissions and owner of that directory. If executing pip with sudo, you may want sudo's -H flag.\u001b[0m\n",
      "\u001b[33mWARNING: The directory '/home/ynaka/.cache/pip' or its parent directory is not owned by the current user and caching wheels has been disabled. check the permissions and owner of that directory. If executing pip with sudo, you may want sudo's -H flag.\u001b[0m\n",
      "Requirement already satisfied: livelossplot in /home/ynaka/.pyenv/versions/3.6.8/envs/py36/lib/python3.6/site-packages (0.4.1)\n",
      "Requirement already satisfied: matplotlib in /home/ynaka/.pyenv/versions/3.6.8/envs/py36/lib/python3.6/site-packages (from livelossplot) (3.1.0)\n",
      "Requirement already satisfied: notebook in /home/ynaka/.pyenv/versions/3.6.8/envs/py36/lib/python3.6/site-packages (from livelossplot) (5.7.8)\n",
      "Requirement already satisfied: numpy>=1.11 in /home/ynaka/.pyenv/versions/3.6.8/envs/py36/lib/python3.6/site-packages (from matplotlib->livelossplot) (1.16.4)\n",
      "Requirement already satisfied: python-dateutil>=2.1 in /home/ynaka/.pyenv/versions/3.6.8/envs/py36/lib/python3.6/site-packages (from matplotlib->livelossplot) (2.8.0)\n",
      "Requirement already satisfied: cycler>=0.10 in /home/ynaka/.pyenv/versions/3.6.8/envs/py36/lib/python3.6/site-packages (from matplotlib->livelossplot) (0.10.0)\n",
      "Requirement already satisfied: kiwisolver>=1.0.1 in /home/ynaka/.pyenv/versions/3.6.8/envs/py36/lib/python3.6/site-packages (from matplotlib->livelossplot) (1.1.0)\n",
      "Requirement already satisfied: pyparsing!=2.0.4,!=2.1.2,!=2.1.6,>=2.0.1 in /home/ynaka/.pyenv/versions/3.6.8/envs/py36/lib/python3.6/site-packages (from matplotlib->livelossplot) (2.4.0)\n",
      "Requirement already satisfied: terminado>=0.8.1 in /home/ynaka/.pyenv/versions/3.6.8/envs/py36/lib/python3.6/site-packages (from notebook->livelossplot) (0.8.2)\n",
      "Requirement already satisfied: jupyter-client>=5.2.0 in /home/ynaka/.pyenv/versions/3.6.8/envs/py36/lib/python3.6/site-packages (from notebook->livelossplot) (5.2.4)\n",
      "Requirement already satisfied: nbconvert in /home/ynaka/.pyenv/versions/3.6.8/envs/py36/lib/python3.6/site-packages (from notebook->livelossplot) (5.5.0)\n",
      "Requirement already satisfied: tornado<7,>=4.1 in /home/ynaka/.pyenv/versions/3.6.8/envs/py36/lib/python3.6/site-packages (from notebook->livelossplot) (6.0.2)\n",
      "Requirement already satisfied: nbformat in /home/ynaka/.pyenv/versions/3.6.8/envs/py36/lib/python3.6/site-packages (from notebook->livelossplot) (4.4.0)\n",
      "Requirement already satisfied: jupyter-core>=4.4.0 in /home/ynaka/.pyenv/versions/3.6.8/envs/py36/lib/python3.6/site-packages (from notebook->livelossplot) (4.5.0)\n",
      "Requirement already satisfied: ipython-genutils in /home/ynaka/.pyenv/versions/3.6.8/envs/py36/lib/python3.6/site-packages (from notebook->livelossplot) (0.2.0)\n",
      "Requirement already satisfied: jinja2 in /home/ynaka/.pyenv/versions/3.6.8/envs/py36/lib/python3.6/site-packages (from notebook->livelossplot) (2.10.1)\n",
      "Requirement already satisfied: ipykernel in /home/ynaka/.pyenv/versions/3.6.8/envs/py36/lib/python3.6/site-packages (from notebook->livelossplot) (5.1.1)\n",
      "Requirement already satisfied: prometheus-client in /home/ynaka/.pyenv/versions/3.6.8/envs/py36/lib/python3.6/site-packages (from notebook->livelossplot) (0.7.1)\n",
      "Requirement already satisfied: pyzmq>=17 in /home/ynaka/.pyenv/versions/3.6.8/envs/py36/lib/python3.6/site-packages (from notebook->livelossplot) (18.0.1)\n",
      "Requirement already satisfied: traitlets>=4.2.1 in /home/ynaka/.pyenv/versions/3.6.8/envs/py36/lib/python3.6/site-packages (from notebook->livelossplot) (4.3.2)\n",
      "Requirement already satisfied: Send2Trash in /home/ynaka/.pyenv/versions/3.6.8/envs/py36/lib/python3.6/site-packages (from notebook->livelossplot) (1.5.0)\n",
      "Requirement already satisfied: six>=1.5 in /home/ynaka/.pyenv/versions/3.6.8/envs/py36/lib/python3.6/site-packages (from python-dateutil>=2.1->matplotlib->livelossplot) (1.12.0)\n",
      "Requirement already satisfied: setuptools in /home/ynaka/.pyenv/versions/3.6.8/envs/py36/lib/python3.6/site-packages (from kiwisolver>=1.0.1->matplotlib->livelossplot) (40.6.2)\n",
      "Requirement already satisfied: ptyprocess; os_name != \"nt\" in /home/ynaka/.pyenv/versions/3.6.8/envs/py36/lib/python3.6/site-packages (from terminado>=0.8.1->notebook->livelossplot) (0.6.0)\n",
      "Requirement already satisfied: bleach in /home/ynaka/.pyenv/versions/3.6.8/envs/py36/lib/python3.6/site-packages (from nbconvert->notebook->livelossplot) (3.1.0)\n",
      "Requirement already satisfied: entrypoints>=0.2.2 in /home/ynaka/.pyenv/versions/3.6.8/envs/py36/lib/python3.6/site-packages (from nbconvert->notebook->livelossplot) (0.3)\n",
      "Requirement already satisfied: mistune>=0.8.1 in /home/ynaka/.pyenv/versions/3.6.8/envs/py36/lib/python3.6/site-packages (from nbconvert->notebook->livelossplot) (0.8.4)\n",
      "Requirement already satisfied: pygments in /home/ynaka/.pyenv/versions/3.6.8/envs/py36/lib/python3.6/site-packages (from nbconvert->notebook->livelossplot) (2.4.2)\n",
      "Requirement already satisfied: testpath in /home/ynaka/.pyenv/versions/3.6.8/envs/py36/lib/python3.6/site-packages (from nbconvert->notebook->livelossplot) (0.4.2)\n",
      "Requirement already satisfied: defusedxml in /home/ynaka/.pyenv/versions/3.6.8/envs/py36/lib/python3.6/site-packages (from nbconvert->notebook->livelossplot) (0.6.0)\n",
      "Requirement already satisfied: pandocfilters>=1.4.1 in /home/ynaka/.pyenv/versions/3.6.8/envs/py36/lib/python3.6/site-packages (from nbconvert->notebook->livelossplot) (1.4.2)\n",
      "Requirement already satisfied: jsonschema!=2.5.0,>=2.4 in /home/ynaka/.pyenv/versions/3.6.8/envs/py36/lib/python3.6/site-packages (from nbformat->notebook->livelossplot) (3.0.1)\n",
      "Requirement already satisfied: MarkupSafe>=0.23 in /home/ynaka/.pyenv/versions/3.6.8/envs/py36/lib/python3.6/site-packages (from jinja2->notebook->livelossplot) (1.1.1)\n",
      "Requirement already satisfied: ipython>=5.0.0 in /home/ynaka/.pyenv/versions/3.6.8/envs/py36/lib/python3.6/site-packages (from ipykernel->notebook->livelossplot) (7.5.0)\n",
      "Requirement already satisfied: decorator in /home/ynaka/.pyenv/versions/3.6.8/envs/py36/lib/python3.6/site-packages (from traitlets>=4.2.1->notebook->livelossplot) (4.4.0)\n",
      "Requirement already satisfied: webencodings in /home/ynaka/.pyenv/versions/3.6.8/envs/py36/lib/python3.6/site-packages (from bleach->nbconvert->notebook->livelossplot) (0.5.1)\n",
      "Requirement already satisfied: attrs>=17.4.0 in /home/ynaka/.pyenv/versions/3.6.8/envs/py36/lib/python3.6/site-packages (from jsonschema!=2.5.0,>=2.4->nbformat->notebook->livelossplot) (19.1.0)\n",
      "Requirement already satisfied: pyrsistent>=0.14.0 in /home/ynaka/.pyenv/versions/3.6.8/envs/py36/lib/python3.6/site-packages (from jsonschema!=2.5.0,>=2.4->nbformat->notebook->livelossplot) (0.15.2)\n",
      "Requirement already satisfied: pickleshare in /home/ynaka/.pyenv/versions/3.6.8/envs/py36/lib/python3.6/site-packages (from ipython>=5.0.0->ipykernel->notebook->livelossplot) (0.7.5)\n",
      "Requirement already satisfied: backcall in /home/ynaka/.pyenv/versions/3.6.8/envs/py36/lib/python3.6/site-packages (from ipython>=5.0.0->ipykernel->notebook->livelossplot) (0.1.0)\n",
      "Requirement already satisfied: jedi>=0.10 in /home/ynaka/.pyenv/versions/3.6.8/envs/py36/lib/python3.6/site-packages (from ipython>=5.0.0->ipykernel->notebook->livelossplot) (0.14.0)\n",
      "Requirement already satisfied: prompt-toolkit<2.1.0,>=2.0.0 in /home/ynaka/.pyenv/versions/3.6.8/envs/py36/lib/python3.6/site-packages (from ipython>=5.0.0->ipykernel->notebook->livelossplot) (2.0.9)\n",
      "Requirement already satisfied: pexpect; sys_platform != \"win32\" in /home/ynaka/.pyenv/versions/3.6.8/envs/py36/lib/python3.6/site-packages (from ipython>=5.0.0->ipykernel->notebook->livelossplot) (4.7.0)\n",
      "Requirement already satisfied: parso>=0.3.0 in /home/ynaka/.pyenv/versions/3.6.8/envs/py36/lib/python3.6/site-packages (from jedi>=0.10->ipython>=5.0.0->ipykernel->notebook->livelossplot) (0.5.0)\n",
      "Requirement already satisfied: wcwidth in /home/ynaka/.pyenv/versions/3.6.8/envs/py36/lib/python3.6/site-packages (from prompt-toolkit<2.1.0,>=2.0.0->ipython>=5.0.0->ipykernel->notebook->livelossplot) (0.1.7)\n"
     ]
    }
   ],
   "source": [
    "!pip install livelossplot"
   ]
  },
  {
   "cell_type": "code",
   "execution_count": 14,
   "metadata": {
    "colab": {},
    "colab_type": "code",
    "id": "0UXuo7L4wBZZ"
   },
   "outputs": [],
   "source": [
    "from livelossplot import PlotLossesKeras"
   ]
  },
  {
   "cell_type": "code",
   "execution_count": 15,
   "metadata": {
    "colab": {},
    "colab_type": "code",
    "id": "oxjRu0BwvPyw"
   },
   "outputs": [
    {
     "data": {
      "image/png": "[encoded data removed]",
      "text/plain": [
       "<Figure size 864x576 with 2 Axes>"
      ]
     },
     "metadata": {
      "needs_background": "light"
     },
     "output_type": "display_data"
    },
    {
     "name": "stdout",
     "output_type": "stream",
     "text": [
      "Log-loss (cost function):\n",
      "training   (min:    0.026, max:    0.219, cur:    0.027)\n",
      "\n",
      "Accuracy:\n",
      "training   (min:    0.934, max:    0.993, cur:    0.993)\n"
     ]
    }
   ],
   "source": [
    "epochs = 20\n",
    "stack = model.fit(x_train, y_train, epochs=epochs, callbacks=[PlotLossesKeras()])"
   ]
  },
  {
   "cell_type": "markdown",
   "metadata": {
    "colab_type": "text",
    "id": "mZLSZ1n5r2kD"
   },
   "source": [
    "## AccuracyとLossのグラフ"
   ]
  },
  {
   "cell_type": "code",
   "execution_count": 16,
   "metadata": {
    "colab": {},
    "colab_type": "code",
    "id": "TyywrD1bwuhM"
   },
   "outputs": [
    {
     "data": {
      "image/png": "[encoded data removed]",
      "text/plain": [
       "<Figure size 432x288 with 1 Axes>"
      ]
     },
     "metadata": {
      "needs_background": "light"
     },
     "output_type": "display_data"
    },
    {
     "data": {
      "image/png": "[encoded data removed]",
      "text/plain": [
       "<Figure size 432x288 with 1 Axes>"
      ]
     },
     "metadata": {
      "needs_background": "light"
     },
     "output_type": "display_data"
    }
   ],
   "source": [
    "import matplotlib.pyplot as plt\n",
    "\n",
    "x = range(epochs)\n",
    "plt.plot(x, stack.history['acc'], label=\"acc\")\n",
    "plt.title(\"accuracy\")\n",
    "plt.legend(loc='center left', bbox_to_anchor=(1, 0.5))\n",
    "plt.show()\n",
    "\n",
    "plt.plot(x, stack.history['loss'], label=\"loss\")\n",
    "plt.title(\"loss\")\n",
    "plt.legend(loc='center left', bbox_to_anchor=(1, 0.5))\n",
    "plt.show()"
   ]
  },
  {
   "cell_type": "markdown",
   "metadata": {
    "colab_type": "text",
    "id": "-GnsZsC1xvRX"
   },
   "source": [
    "## テストデータで精度確認"
   ]
  },
  {
   "cell_type": "code",
   "execution_count": 17,
   "metadata": {
    "colab": {},
    "colab_type": "code",
    "id": "vkl8MS3Wx0k5"
   },
   "outputs": [
    {
     "name": "stdout",
     "output_type": "stream",
     "text": [
      "10000/10000 [==============================] - 0s 31us/step\n"
     ]
    },
    {
     "data": {
      "text/plain": [
       "[0.08427141407701165, 0.9832]"
      ]
     },
     "execution_count": 17,
     "metadata": {},
     "output_type": "execute_result"
    }
   ],
   "source": [
    "model.evaluate(x_test, y_test)"
   ]
  },
  {
   "cell_type": "markdown",
   "metadata": {},
   "source": [
    "# 学習した成果の保存"
   ]
  },
  {
   "cell_type": "code",
   "execution_count": 18,
   "metadata": {},
   "outputs": [
    {
     "name": "stdout",
     "output_type": "stream",
     "text": [
      "save model\n"
     ]
    }
   ],
   "source": [
    "import os.path\n",
    "\n",
    "f_model = './model'\n",
    "if not os.path.exists(f_model):\n",
    "    os.mkdir(f_model)\n",
    "\n",
    "json_string = model.to_json()\n",
    "open(os.path.join(f_model,'tf_keras_mnist_beginner_weights.json'), 'w').write(json_string)\n",
    "\n",
    "yaml_string = model.to_yaml()\n",
    "open(os.path.join(f_model,'tf_keras_mnist_beginner_weights.yaml'), 'w').write(yaml_string)\n",
    "\n",
    "print('save model')\n",
    "model.save(os.path.join(f_model,'tf_keras_mnist_expert.h5'))"
   ]
  }
 ],
 "metadata": {
  "accelerator": "GPU",
  "colab": {
   "collapsed_sections": [],
   "name": "tf_keras_mnist_beginner.ipynb",
   "provenance": [],
   "version": "0.3.2"
  },
  "kernelspec": {
   "display_name": "Python 3",
   "language": "python",
   "name": "python3"
  },
  "language_info": {
   "codemirror_mode": {
    "name": "ipython",
    "version": 3
   },
   "file_extension": ".py",
   "mimetype": "text/x-python",
   "name": "python",
   "nbconvert_exporter": "python",
   "pygments_lexer": "ipython3",
   "version": "3.6.8"
  }
 },
 "nbformat": 4,
 "nbformat_minor": 1
}
