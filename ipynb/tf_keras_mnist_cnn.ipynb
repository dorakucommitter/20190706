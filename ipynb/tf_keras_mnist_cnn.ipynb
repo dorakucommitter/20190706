{
  "nbformat": 4,
  "nbformat_minor": 0,
  "metadata": {
    "colab": {
      "name": "aaa.ipynb",
      "version": "0.3.2",
      "provenance": [],
      "collapsed_sections": [],
      "toc_visible": true
    },
    "kernelspec": {
      "name": "python3",
      "display_name": "Python 3"
    },
    "accelerator": "GPU"
  },
  "cells": [
    {
      "cell_type": "markdown",
      "metadata": {
        "id": "R_los9WJxQAQ",
        "colab_type": "text"
      },
      "source": [
        "# Keras全般\n",
        "\n",
        "* [Home - Keras Documentation](https://keras.io/ja/)\n",
        "* [kerasのmnistのサンプルを読んでみる - Qiita](https://qiita.com/ash8h/items/29e24fc617b832fba136)\n",
        "\n",
        "# CNN関連\n",
        "\n",
        "* [Convolutionalレイヤー - Keras Documentation](https://keras.io/ja/layers/convolutional/)\n",
        "* [Keras(+Tensorflow)でMNISTしてみる](https://qiita.com/fukuit/items/b3fa460577a0ea139c88)\n",
        "* [KerasでDeep Learning：CNNを組んでみる](http://tekenuko.hatenablog.com/entry/2017/07/23/195321)\n",
        "* [KerasでMNIST CNNその1](http://kikei.github.io/ai/2017/08/16/mnist-cnn.html)\n",
        "* [KerasでMNIST CNNその2](http://kikei.github.io/ai/2018/03/24/mnist-cnn2.html)\n",
        "\n",
        "# Colaboratoryで実行する場合\n",
        "\n",
        "Colaboratoryで実行する場合、下記コマンドを実行し、livelossplotをインストールする必要があります。\n",
        "\n",
        "```\n",
        "!pip3 install livelossplot\n",
        "```\n"
      ]
    },
    {
      "cell_type": "code",
      "metadata": {
        "id": "a2g0sdLZxb_A",
        "colab_type": "code",
        "colab": {}
      },
      "source": [
        "!pip3 install livelossplot"
      ],
      "execution_count": 0,
      "outputs": []
    },
    {
      "cell_type": "markdown",
      "metadata": {
        "id": "hQvZAzfBxQAS",
        "colab_type": "text"
      },
      "source": [
        "# ライブラリのインポート"
      ]
    },
    {
      "cell_type": "code",
      "metadata": {
        "id": "tbNtsVCzxQAT",
        "colab_type": "code",
        "colab": {}
      },
      "source": [
        "import keras\n",
        "from keras.datasets import mnist\n",
        "from keras.models import Sequential\n",
        "from keras.layers import Dense, Dropout\n",
        "from keras.optimizers import RMSprop\n",
        "\n",
        "from keras.layers.convolutional import Conv2D\n",
        "from keras.layers.pooling import MaxPooling2D\n",
        "from keras.optimizers import Adam\n",
        "from keras.layers.core import Dense, Activation, Dropout, Flatten\n",
        "\n",
        "# 学習曲線描画\n",
        "# pip install livelossplot\n",
        "from livelossplot import PlotLossesKeras"
      ],
      "execution_count": 0,
      "outputs": []
    },
    {
      "cell_type": "markdown",
      "metadata": {
        "id": "N1zlSj1zxQAY",
        "colab_type": "text"
      },
      "source": [
        "# 共通変数定義"
      ]
    },
    {
      "cell_type": "code",
      "metadata": {
        "id": "AK4O4sH9xQAZ",
        "colab_type": "code",
        "colab": {}
      },
      "source": [
        "batch_size = 128\n",
        "num_classes = 10\n",
        "epochs = 20"
      ],
      "execution_count": 0,
      "outputs": []
    },
    {
      "cell_type": "markdown",
      "metadata": {
        "id": "-Jct_nBzxQAc",
        "colab_type": "text"
      },
      "source": [
        "# MNISTデータセット取得"
      ]
    },
    {
      "cell_type": "code",
      "metadata": {
        "id": "PBoU30CNxQAd",
        "colab_type": "code",
        "colab": {}
      },
      "source": [
        "# the data, shuffled and split between train and test sets\n",
        "(x_train, y_train), (x_test, y_test) = mnist.load_data()"
      ],
      "execution_count": 0,
      "outputs": []
    },
    {
      "cell_type": "markdown",
      "metadata": {
        "id": "eT9XlgNKxQAf",
        "colab_type": "text"
      },
      "source": [
        "# テストデータの整形\n",
        "\n",
        "keras.datasets.mnist.load_data()で取得するMNIST画像データは28px X 28px、0〜255の８ビットグレースケールを元にしたデータになっているため、下記の整形を行います。\n",
        "\n",
        "* 行列の次元変換： (28, 28) → (784)\n",
        "* 画素値の正規化： 0〜255 → 0〜1の間の小数"
      ]
    },
    {
      "cell_type": "code",
      "metadata": {
        "id": "eyccBA82xQAg",
        "colab_type": "code",
        "colab": {}
      },
      "source": [
        "x_train = x_train.reshape(60000, 784) # 2次元配列を1次元に変換\n",
        "x_test = x_test.reshape(10000, 784)\n",
        "\n",
        "# 28 x 28の画像がgrayscaleで1chなので、28, 28, 1にreshapeする\n",
        "print(x_train.shape[0])\n",
        "x_train = x_train.reshape(x_train.shape[0], 28, 28, 1)\n",
        "x_test = x_test.reshape(x_test.shape[0], 28, 28, 1)\n",
        "\n",
        "x_train = x_train.astype('float32')   # int型をfloat32型に変換\n",
        "x_test = x_test.astype('float32')\n",
        "\n",
        "x_train /= 255                        # [0-255]の値を[0.0-1.0]に変換\n",
        "x_test /= 255\n",
        "\n",
        "print(x_train.shape[0], 'train samples')\n",
        "print(x_test.shape[0], 'test samples')"
      ],
      "execution_count": 0,
      "outputs": []
    },
    {
      "cell_type": "code",
      "metadata": {
        "id": "PK2F0EdMxQAk",
        "colab_type": "code",
        "colab": {}
      },
      "source": [
        "# convert class vectors to binary class matrices\n",
        "y_train = keras.utils.to_categorical(y_train, num_classes)\n",
        "y_test = keras.utils.to_categorical(y_test, num_classes)"
      ],
      "execution_count": 0,
      "outputs": []
    },
    {
      "cell_type": "markdown",
      "metadata": {
        "id": "cOdB4E-_xQAm",
        "colab_type": "text"
      },
      "source": [
        "# モデル構築\n",
        "\n",
        "- [ソフトマックス関数](https://mathtrain.jp/softmax)"
      ]
    },
    {
      "cell_type": "code",
      "metadata": {
        "id": "L9kUgNp6xQAn",
        "colab_type": "code",
        "colab": {}
      },
      "source": [
        "model = Sequential()\n",
        "model.add(Conv2D(32, kernel_size=(3, 3), strides=(1,1), padding='valid', activation='relu', input_shape=(28, 28, 1)))\n",
        "model.add(Conv2D(64, kernel_size=(3, 3), activation='relu'))\n",
        "model.add(MaxPooling2D(pool_size=(2, 2)))\n",
        "model.add(Dropout(0.3))\n",
        "model.add(Flatten())\n",
        "model.add(Dense(128, activation='relu'))\n",
        "model.add(Dropout(0.5))\n",
        "model.add(Dense(10, activation='softmax'))\n",
        "\n",
        "model.summary()\n",
        "model.compile(loss='categorical_crossentropy',\n",
        "              optimizer=keras.optimizers.Adadelta(),\n",
        "              metrics=['accuracy'])"
      ],
      "execution_count": 0,
      "outputs": []
    },
    {
      "cell_type": "markdown",
      "metadata": {
        "id": "xbOYF00ixQAq",
        "colab_type": "text"
      },
      "source": [
        "# モデル構造の可視化\n",
        "\n",
        "[可視化 - Keras Documentation](https://keras.io/ja/visualization/)\n",
        "\n",
        "## モデルの可視化モジュール\n",
        "\n",
        "pydotはしばらく前に開発が止まり、pydotplusとpydot-ngに別れたそうです。  \n",
        "pythonのgraphvizはインターフェースだけのラッパーモジュールなので、実態となるパッケージをインストールする必要があります。\n",
        "\n",
        "```\n",
        "$ pip install pydot-ng graphviz\n",
        "$ sudo apt-get install graphviz\n",
        "```"
      ]
    },
    {
      "cell_type": "code",
      "metadata": {
        "id": "gTNdbsH8xQAr",
        "colab_type": "code",
        "colab": {}
      },
      "source": [
        "# PNG形式でモデルの構造を出力する\n",
        "from keras.utils import plot_model\n",
        "plot_model(model, show_shapes=True, to_file='model.png')\n",
        "\n",
        "# SVG形式でモデルの構造を出力する\n",
        "# 環境によっては''''pip install pydot''を実行し、pydotをインストールする必要あり\n",
        "from IPython.display import SVG\n",
        "from keras.utils.vis_utils import model_to_dot\n",
        "\n",
        "SVG(model_to_dot(model, show_shapes=True).create(prog='dot', format='svg'))"
      ],
      "execution_count": 0,
      "outputs": []
    },
    {
      "cell_type": "markdown",
      "metadata": {
        "id": "9y9UKNwKxQAu",
        "colab_type": "text"
      },
      "source": [
        "# モデルの最適化"
      ]
    },
    {
      "cell_type": "code",
      "metadata": {
        "id": "FtuTlF6JxQAv",
        "colab_type": "code",
        "colab": {}
      },
      "source": [
        "### ??? kerasの学習率はどこに効いてくるのかわからなかった。。。\n",
        "#from keras.callbacks import LearningRateScheduler\n",
        "#LearningRateScheduler(0.001)\n",
        "#LearningRateScheduler(0.00000000001)"
      ],
      "execution_count": 0,
      "outputs": []
    },
    {
      "cell_type": "code",
      "metadata": {
        "id": "Ry3koLm-xQAx",
        "colab_type": "code",
        "colab": {}
      },
      "source": [
        "stack = model.fit(x_train, y_train,  # 画像とラベルデータ\n",
        "                    batch_size=batch_size,\n",
        "                    epochs=epochs,     # エポック数の指定\n",
        "                    verbose=1,         # ログ出力の指定. 0だとログが出ない\n",
        "                    validation_split=0.1,  # 学習データの1割を検証に使用する\n",
        "                    callbacks=[PlotLossesKeras()])"
      ],
      "execution_count": 0,
      "outputs": []
    },
    {
      "cell_type": "markdown",
      "metadata": {
        "id": "V-QxSWj0xQA0",
        "colab_type": "text"
      },
      "source": [
        "# AccuracyとLossの可視化"
      ]
    },
    {
      "cell_type": "code",
      "metadata": {
        "id": "-T5ctqi-xQA1",
        "colab_type": "code",
        "colab": {}
      },
      "source": [
        "import matplotlib.pyplot as plt\n",
        "\n",
        "x = range(epochs)\n",
        "plt.plot(x, stack.history['acc'], label=\"acc\")\n",
        "plt.title(\"accuracy\")\n",
        "plt.legend(loc='center left', bbox_to_anchor=(1, 0.5))\n",
        "plt.show()\n",
        "\n",
        "plt.plot(x, stack.history['loss'], label=\"loss\")\n",
        "plt.title(\"loss\")\n",
        "plt.legend(loc='center left', bbox_to_anchor=(1, 0.5))\n",
        "plt.show()"
      ],
      "execution_count": 0,
      "outputs": []
    },
    {
      "cell_type": "markdown",
      "metadata": {
        "id": "pCwXdAFqxQA4",
        "colab_type": "text"
      },
      "source": [
        "# 評価"
      ]
    },
    {
      "cell_type": "code",
      "metadata": {
        "id": "BRyMPgPzxQA4",
        "colab_type": "code",
        "colab": {}
      },
      "source": [
        "score = model.evaluate(x_test, y_test, verbose=0)\n",
        "print('Test loss:', score[0])\n",
        "print('Test accuracy:', score[1])"
      ],
      "execution_count": 0,
      "outputs": []
    },
    {
      "cell_type": "markdown",
      "metadata": {
        "id": "-BaPaVLo2FoX",
        "colab_type": "text"
      },
      "source": [
        "# 学習した成果の保存"
      ]
    },
    {
      "cell_type": "code",
      "metadata": {
        "id": "26DEAL972IA2",
        "colab_type": "code",
        "colab": {}
      },
      "source": [
        "import os.path\n",
        "\n",
        "f_model = './model'\n",
        "if not os.path.exists(f_model):\n",
        "    os.mkdir(f_model)\n",
        "\n",
        "json_string = model.to_json()\n",
        "open(os.path.join(f_model,'tf_keras_mnist_beginner_weights.json'), 'w').write(json_string)\n",
        "\n",
        "yaml_string = model.to_yaml()\n",
        "open(os.path.join(f_model,'tf_keras_mnist_beginner_weights.yaml'), 'w').write(yaml_string)\n",
        "\n",
        "print('save model')\n",
        "model.save(os.path.join(f_model,'tf_keras_mnist_cnn.h5'))"
      ],
      "execution_count": 0,
      "outputs": []
    }
  ]
}