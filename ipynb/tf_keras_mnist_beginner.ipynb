{
 "cells": [
  {
   "cell_type": "markdown",
   "metadata": {
    "colab_type": "text",
    "id": "k9aQGFsEr2vf"
   },
   "source": [
    "# 参考サイト\n",
    "\n",
    "* [Home - Keras Documentation](https://keras.io/ja/)\n",
    "* [kerasのmnistのサンプルを読んでみる - Qiita](https://qiita.com/ash8h/items/29e24fc617b832fba136)"
   ]
  },
  {
   "cell_type": "markdown",
   "metadata": {
    "colab_type": "text",
    "id": "hRvBy99gslQH"
   },
   "source": [
    "# チュートリアルからの変更点\n",
    "\n",
    "* モデルの可視化ライブラリの都合でtensorflow付属のkerasから通常のkerasに変更"
   ]
  },
  {
   "cell_type": "code",
   "execution_count": null,
   "metadata": {
    "colab": {},
    "colab_type": "code",
    "id": "vyFlGfF7s7yq"
   },
   "outputs": [],
   "source": [
    "import keras\n",
    "from keras.datasets import mnist\n",
    "from keras.models import Sequential\n",
    "from keras.layers import Dense, Dropout\n",
    "from keras.optimizers import RMSprop"
   ]
  },
  {
   "cell_type": "markdown",
   "metadata": {
    "colab_type": "text",
    "id": "LtKWt-zctx28"
   },
   "source": [
    "1. 結果が可視化しやすいので隠れ層なし（入力層と全結合層だけ）のモデルに変更\n",
    "2.今は精度が落ちてくれた方が都合がいいのでDropoutも無し\n"
   ]
  },
  {
   "cell_type": "code",
   "execution_count": null,
   "metadata": {
    "colab": {},
    "colab_type": "code",
    "id": "fKvnoOP3rrAq"
   },
   "outputs": [],
   "source": [
    "mnist = keras.datasets.mnist\n",
    "\n",
    "(x_train, y_train),(x_test, y_test) = mnist.load_data()\n",
    "x_train, x_test = x_train / 255.0, x_test / 255.0\n",
    "\n",
    "model = keras.models.Sequential([\n",
    "  keras.layers.Flatten(input_shape=(28, 28)),\n",
    "  keras.layers.Dense(10, activation='softmax', input_shape=(784,))\n",
    "])\n",
    "model.compile(optimizer='adam',\n",
    "              loss='sparse_categorical_crossentropy',\n",
    "              metrics=['accuracy'])\n",
    "model.summary()"
   ]
  },
  {
   "cell_type": "markdown",
   "metadata": {
    "colab_type": "text",
    "id": "FTp_UwitvVYO"
   },
   "source": [
    "## モデルの可視化"
   ]
  },
  {
   "cell_type": "code",
   "execution_count": null,
   "metadata": {
    "colab": {},
    "colab_type": "code",
    "id": "pV-091pJvSRU"
   },
   "outputs": [],
   "source": [
    "# PNG形式でモデルの構造を出力する\n",
    "from keras.utils import plot_model\n",
    "plot_model(model, show_shapes=True, to_file='model.png')\n",
    "\n",
    "# SVG形式でモデルの構造を出力する\n",
    "# 環境によっては''''pip install pydot''を実行し、pydotをインストールする必要あり\n",
    "from IPython.display import SVG\n",
    "from keras.utils.vis_utils import model_to_dot\n",
    "\n",
    "SVG(model_to_dot(model, show_shapes=True).create(prog='dot', format='svg'))"
   ]
  },
  {
   "cell_type": "markdown",
   "metadata": {
    "colab_type": "text",
    "id": "rJq2ewqxv5vU"
   },
   "source": [
    "## 学習の進み具合のグラフ化"
   ]
  },
  {
   "cell_type": "code",
   "execution_count": null,
   "metadata": {
    "colab": {},
    "colab_type": "code",
    "id": "Cy62j6ypwEZb"
   },
   "outputs": [],
   "source": [
    "!pip install livelossplot"
   ]
  },
  {
   "cell_type": "code",
   "execution_count": null,
   "metadata": {
    "colab": {},
    "colab_type": "code",
    "id": "0UXuo7L4wBZZ"
   },
   "outputs": [],
   "source": [
    "from livelossplot import PlotLossesKeras"
   ]
  },
  {
   "cell_type": "code",
   "execution_count": null,
   "metadata": {
    "colab": {},
    "colab_type": "code",
    "id": "oxjRu0BwvPyw"
   },
   "outputs": [],
   "source": [
    "epochs = 20\n",
    "stack = model.fit(x_train, y_train, epochs=epochs, callbacks=[PlotLossesKeras()])"
   ]
  },
  {
   "cell_type": "markdown",
   "metadata": {
    "colab_type": "text",
    "id": "mZLSZ1n5r2kD"
   },
   "source": [
    "## AccuracyとLossのグラフ"
   ]
  },
  {
   "cell_type": "code",
   "execution_count": null,
   "metadata": {
    "colab": {},
    "colab_type": "code",
    "id": "TyywrD1bwuhM"
   },
   "outputs": [],
   "source": [
    "import matplotlib.pyplot as plt\n",
    "\n",
    "x = range(epochs)\n",
    "plt.plot(x, stack.history['acc'], label=\"acc\")\n",
    "plt.title(\"accuracy\")\n",
    "plt.legend(loc='center left', bbox_to_anchor=(1, 0.5))\n",
    "plt.show()\n",
    "\n",
    "plt.plot(x, stack.history['loss'], label=\"loss\")\n",
    "plt.title(\"loss\")\n",
    "plt.legend(loc='center left', bbox_to_anchor=(1, 0.5))\n",
    "plt.show()"
   ]
  },
  {
   "cell_type": "markdown",
   "metadata": {
    "colab_type": "text",
    "id": "-GnsZsC1xvRX"
   },
   "source": [
    "## テストデータで精度確認"
   ]
  },
  {
   "cell_type": "code",
   "execution_count": null,
   "metadata": {
    "colab": {},
    "colab_type": "code",
    "id": "vkl8MS3Wx0k5"
   },
   "outputs": [],
   "source": [
    "model.evaluate(x_test, y_test)"
   ]
  },
  {
   "cell_type": "markdown",
   "metadata": {
    "colab_type": "text",
    "id": "_4mb2EFUwWSt"
   },
   "source": [
    "# 学習した成果の保存"
   ]
  },
  {
   "cell_type": "code",
   "execution_count": null,
   "metadata": {
    "colab": {},
    "colab_type": "code",
    "id": "BXdcgU2Nwdqf"
   },
   "outputs": [],
   "source": [
    "import os.path\n",
    "\n",
    "f_model = './model'\n",
    "if not os.path.exists(f_model):\n",
    "    os.mkdir(f_model)\n",
    "\n",
    "json_string = model.to_json()\n",
    "open(os.path.join(f_model,'tf_keras_mnist_beginner_weights.json'), 'w').write(json_string)\n",
    "\n",
    "yaml_string = model.to_yaml()\n",
    "open(os.path.join(f_model,'tf_keras_mnist_beginner_weights.yaml'), 'w').write(yaml_string)\n",
    "\n",
    "print('save model')\n",
    "model.save(os.path.join(f_model,'tf_keras_mnist_beginner.h5'))"
   ]
  },
  {
   "cell_type": "markdown",
   "metadata": {
    "colab_type": "text",
    "id": "Tq1IhSk9yH7t"
   },
   "source": [
    "----\n",
    "\n",
    "# 学習で獲得した物の確認"
   ]
  },
  {
   "cell_type": "markdown",
   "metadata": {
    "colab_type": "text",
    "id": "_HI4KhHZyPgM"
   },
   "source": [
    "## Weight"
   ]
  },
  {
   "cell_type": "code",
   "execution_count": null,
   "metadata": {
    "colab": {},
    "colab_type": "code",
    "id": "dxxRdhKwyGTj"
   },
   "outputs": [],
   "source": [
    "import numpy as np\n",
    "import matplotlib.cm as cm\n",
    "\n",
    "layer = model.layers[1]\n",
    "w = layer.get_weights()[0]\n",
    "wt = np.array(w).T\n",
    "\n",
    "print('w.shape = ', wt.shape)\n",
    "\n",
    "\n",
    "fig, axarr = plt.subplots(2, 5)\n",
    "for idx in range(10):\n",
    "    ax = axarr[int(idx / 5)][idx % 5]\n",
    "    img_src = (wt[idx, :] * 100).astype(np.int32)\n",
    "\n",
    "    ax.imshow(img_src.reshape(28, 28), cmap = cm.Greys_r)\n",
    "\n",
    "    ax.set_title(str(idx))\n",
    "    ax.axes.get_xaxis().set_visible(False)\n",
    "    ax.axes.get_yaxis().set_visible(False)\n",
    "plt.show()\n",
    "plt.close()"
   ]
  },
  {
   "cell_type": "code",
   "execution_count": null,
   "metadata": {
    "colab": {},
    "colab_type": "code",
    "id": "Jeon5lOq2kYl"
   },
   "outputs": [],
   "source": [
    "b = layer.get_weights()[1]\n",
    "b = np.array(b)\n",
    "print('b.shape: ', b.shape)\n",
    "print(b)"
   ]
  }
 ],
 "metadata": {
  "accelerator": "GPU",
  "colab": {
   "collapsed_sections": [],
   "name": "tf_keras_mnist_beginner.ipynb",
   "provenance": [],
   "version": "0.3.2"
  },
  "kernelspec": {
   "display_name": "Python 3",
   "language": "python",
   "name": "python3"
  },
  "language_info": {
   "codemirror_mode": {
    "name": "ipython",
    "version": 3
   },
   "file_extension": ".py",
   "mimetype": "text/x-python",
   "name": "python",
   "nbconvert_exporter": "python",
   "pygments_lexer": "ipython3",
   "version": "3.6.8"
  }
 },
 "nbformat": 4,
 "nbformat_minor": 1
}
