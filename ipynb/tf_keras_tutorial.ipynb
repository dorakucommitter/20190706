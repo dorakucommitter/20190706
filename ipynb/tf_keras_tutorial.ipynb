{
  "nbformat": 4,
  "nbformat_minor": 0,
  "metadata": {
    "colab": {
      "name": "tf_keras_tutorial.ipynb",
      "version": "0.3.2",
      "provenance": [],
      "collapsed_sections": []
    },
    "kernelspec": {
      "name": "python3",
      "display_name": "Python 3"
    },
    "accelerator": "GPU"
  },
  "cells": [
    {
      "cell_type": "markdown",
      "metadata": {
        "id": "dJU76cc5FzaU",
        "colab_type": "text"
      },
      "source": [
        "# TensorflowチュートリアルのMNIST\n",
        "\n",
        "* URL  \n",
        "    [TensorFlow Core  |  TensorFlow](https://www.tensorflow.org/tutorials/)\n",
        "\n",
        "* ここで確認できること\n",
        "    * optimizerを変えると精度が変わる。\n",
        "    * 中間層の増減で精度が変わる。\n",
        "    * 中間層を増やしすぎると学習が収束しなくなる"
      ]
    },
    {
      "cell_type": "code",
      "metadata": {
        "id": "sNuIbVpLFzaY",
        "colab_type": "code",
        "colab": {}
      },
      "source": [
        "import tensorflow as tf\n",
        "mnist = tf.keras.datasets.mnist\n",
        "\n",
        "(x_train, y_train),(x_test, y_test) = mnist.load_data()\n",
        "x_train, x_test = x_train / 255.0, x_test / 255.0\n",
        "\n",
        "model = tf.keras.models.Sequential([\n",
        "  tf.keras.layers.Flatten(input_shape=(28, 28)),\n",
        "  tf.keras.layers.Dense(512, activation=tf.nn.relu),\n",
        "  tf.keras.layers.Dropout(0.2),\n",
        "  tf.keras.layers.Dense(10, activation=tf.nn.softmax)\n",
        "])\n",
        "model.compile(optimizer='adam',\n",
        "              loss='sparse_categorical_crossentropy',\n",
        "              metrics=['accuracy'])\n",
        "\n",
        "model.fit(x_train, y_train, epochs=5)\n",
        "model.evaluate(x_test, y_test)"
      ],
      "execution_count": 0,
      "outputs": []
    },
    {
      "cell_type": "markdown",
      "metadata": {
        "id": "7plxyOdBiyjN",
        "colab_type": "text"
      },
      "source": [
        "----\n",
        "\n",
        "# データの可視化"
      ]
    },
    {
      "cell_type": "markdown",
      "metadata": {
        "id": "bKyoozaslK7Q",
        "colab_type": "text"
      },
      "source": [
        "## データセットの数"
      ]
    },
    {
      "cell_type": "code",
      "metadata": {
        "id": "gcTUq8lIixlP",
        "colab_type": "code",
        "colab": {}
      },
      "source": [
        "# 訓練データセットの数\n",
        "print(x_train.shape)\n",
        "print(y_train.shape)\n",
        "\n",
        "# テストデータセットの数\n",
        "print(x_test.shape)\n",
        "print(y_test.shape)"
      ],
      "execution_count": 0,
      "outputs": []
    },
    {
      "cell_type": "markdown",
      "metadata": {
        "id": "XAMry7jHlDLT",
        "colab_type": "text"
      },
      "source": [
        "## 先頭データの表示"
      ]
    },
    {
      "cell_type": "code",
      "metadata": {
        "id": "IShZTfGXldsg",
        "colab_type": "code",
        "colab": {}
      },
      "source": [
        "import matplotlib.cm as cm\n",
        "from matplotlib import pylab as plt\n",
        "\n",
        "\n",
        "plt.imshow(x_train[0], cmap = cm.Greys_r)\n",
        "plt.title(str(y_train[0]))\n",
        "plt.axis('off')\n",
        "plt.show()\n",
        "plt.close()\n",
        "\n",
        "\n",
        "plt.imshow(x_test[0], cmap = cm.Greys_r)\n",
        "plt.title(str(y_test[0]))\n",
        "plt.axis('off')\n",
        "plt.show()\n",
        "plt.close()"
      ],
      "execution_count": 0,
      "outputs": []
    },
    {
      "cell_type": "markdown",
      "metadata": {
        "id": "9PPMqFoFm8LS",
        "colab_type": "text"
      },
      "source": [
        "## 先頭10個のデータを表示する"
      ]
    },
    {
      "cell_type": "markdown",
      "metadata": {
        "id": "yAe_wZwxn6gt",
        "colab_type": "text"
      },
      "source": [
        "### 訓練データ"
      ]
    },
    {
      "cell_type": "code",
      "metadata": {
        "id": "AEaoZD68nG-X",
        "colab_type": "code",
        "colab": {}
      },
      "source": [
        "### 訓練データ\n",
        "# 2行x5列の画像出力領域を確保\n",
        "fig, axarr = plt.subplots(2, 5)\n",
        "# 各出力領域に絵をセットする\n",
        "for idx in range(10):\n",
        "    ax = axarr[int(idx / 5)][idx % 5]\n",
        "    ax.imshow(x_train[idx], cmap = cm.Greys_r)\n",
        "\n",
        "    ax.set_title(str(y_train[idx]))\n",
        "    ax.axes.get_xaxis().set_visible(False)\n",
        "    ax.axes.get_yaxis().set_visible(False)\n",
        "# 絵を出力する\n",
        "plt.show()\n",
        "plt.close()"
      ],
      "execution_count": 0,
      "outputs": []
    },
    {
      "cell_type": "code",
      "metadata": {
        "id": "wW91OV8to6d9",
        "colab_type": "code",
        "colab": {}
      },
      "source": [
        "### テストデータ\n",
        "# 訓練データ\n",
        "# 2行x5列の画像出力領域を確保\n",
        "fig, axarr = plt.subplots(2, 5)\n",
        "# 各出力領域に絵をセットする\n",
        "for idx in range(10):\n",
        "    ax = axarr[int(idx / 5)][idx % 5]\n",
        "    ax.imshow(x_test[idx], cmap = cm.Greys_r)\n",
        "\n",
        "    ax.set_title(str(y_test[idx]))\n",
        "    ax.axes.get_xaxis().set_visible(False)\n",
        "    ax.axes.get_yaxis().set_visible(False)\n",
        "# 絵を出力する\n",
        "plt.show()\n",
        "plt.close()"
      ],
      "execution_count": 0,
      "outputs": []
    },
    {
      "cell_type": "markdown",
      "metadata": {
        "id": "OaSDAPVQFzao",
        "colab_type": "text"
      },
      "source": [
        "----\n",
        "\n",
        "# のちのちのためにoptimizer変更\n",
        "\n",
        "adamの学習率の変更方法がわからなかったのでoptimizerを```adam```→```SGD```に変更します。"
      ]
    },
    {
      "cell_type": "code",
      "metadata": {
        "id": "Wq5-BsjmFzar",
        "colab_type": "code",
        "colab": {}
      },
      "source": [
        "import tensorflow as tf\n",
        "mnist = tf.keras.datasets.mnist\n",
        "\n",
        "(x_train, y_train),(x_test, y_test) = mnist.load_data()\n",
        "x_train, x_test = x_train / 255.0, x_test / 255.0\n",
        "\n",
        "model = tf.keras.models.Sequential([\n",
        "  tf.keras.layers.Flatten(input_shape=(28, 28)),\n",
        "  tf.keras.layers.Dense(512, activation=tf.nn.relu),\n",
        "  tf.keras.layers.Dropout(0.2),\n",
        "  tf.keras.layers.Dense(10, activation=tf.nn.softmax)\n",
        "])\n",
        "model.compile(optimizer='SGD',\n",
        "              loss='sparse_categorical_crossentropy',\n",
        "              metrics=['accuracy'])\n",
        "\n",
        "model.fit(x_train, y_train, epochs=5)\n",
        "model.evaluate(x_test, y_test)"
      ],
      "execution_count": 0,
      "outputs": []
    },
    {
      "cell_type": "markdown",
      "metadata": {
        "id": "Zf8NVkxuFza3",
        "colab_type": "text"
      },
      "source": [
        "# 層を減らしてみる"
      ]
    },
    {
      "cell_type": "code",
      "metadata": {
        "id": "o_nmi1ozFza6",
        "colab_type": "code",
        "colab": {}
      },
      "source": [
        "import tensorflow as tf\n",
        "mnist = tf.keras.datasets.mnist\n",
        "\n",
        "(x_train, y_train),(x_test, y_test) = mnist.load_data()\n",
        "x_train, x_test = x_train / 255.0, x_test / 255.0\n",
        "\n",
        "model = tf.keras.models.Sequential([\n",
        "  tf.keras.layers.Flatten(input_shape=(28, 28)),\n",
        "  tf.keras.layers.Dense(10, activation=tf.nn.softmax)\n",
        "])\n",
        "model.compile(optimizer='SGD',\n",
        "              loss='sparse_categorical_crossentropy',\n",
        "              metrics=['accuracy'])\n",
        "\n",
        "model.fit(x_train, y_train, epochs=5)\n",
        "model.evaluate(x_test, y_test)"
      ],
      "execution_count": 0,
      "outputs": []
    },
    {
      "cell_type": "markdown",
      "metadata": {
        "id": "l3EZqDdJFzbF",
        "colab_type": "text"
      },
      "source": [
        "# 中間層を増やしてみる"
      ]
    },
    {
      "cell_type": "code",
      "metadata": {
        "id": "YftRErY4FzbH",
        "colab_type": "code",
        "colab": {}
      },
      "source": [
        "import tensorflow as tf\n",
        "mnist = tf.keras.datasets.mnist\n",
        "\n",
        "(x_train, y_train),(x_test, y_test) = mnist.load_data()\n",
        "x_train, x_test = x_train / 255.0, x_test / 255.0\n",
        "\n",
        "model = tf.keras.models.Sequential([\n",
        "  tf.keras.layers.Flatten(input_shape=(28, 28)),\n",
        "  tf.keras.layers.Dense(512, activation=tf.nn.relu),\n",
        "  tf.keras.layers.Dropout(0.2),\n",
        "  tf.keras.layers.Dense(256, activation=tf.nn.relu),\n",
        "  tf.keras.layers.Dropout(0.2),\n",
        "  tf.keras.layers.Dense(10, activation=tf.nn.softmax)\n",
        "])\n",
        "model.compile(optimizer='SGD',\n",
        "              loss='sparse_categorical_crossentropy',\n",
        "              metrics=['accuracy'])\n",
        "\n",
        "model.fit(x_train, y_train, epochs=5)\n",
        "model.evaluate(x_test, y_test)"
      ],
      "execution_count": 0,
      "outputs": []
    },
    {
      "cell_type": "markdown",
      "metadata": {
        "id": "1UCPGVdXFzbS",
        "colab_type": "text"
      },
      "source": [
        "# 中間層をもっと増やしてみる"
      ]
    },
    {
      "cell_type": "code",
      "metadata": {
        "id": "ZKAifOk4FzbV",
        "colab_type": "code",
        "colab": {}
      },
      "source": [
        "import tensorflow as tf\n",
        "mnist = tf.keras.datasets.mnist\n",
        "\n",
        "(x_train, y_train),(x_test, y_test) = mnist.load_data()\n",
        "x_train, x_test = x_train / 255.0, x_test / 255.0\n",
        "\n",
        "model = tf.keras.models.Sequential([\n",
        "  tf.keras.layers.Flatten(input_shape=(28, 28)),\n",
        "  tf.keras.layers.Dense(512, activation=tf.nn.relu),\n",
        "  tf.keras.layers.Dropout(0.2),\n",
        "  tf.keras.layers.Dense(256, activation=tf.nn.relu),\n",
        "  tf.keras.layers.Dropout(0.2),\n",
        "  tf.keras.layers.Dense(128, activation=tf.nn.relu),\n",
        "  tf.keras.layers.Dropout(0.2),\n",
        "  tf.keras.layers.Dense(64, activation=tf.nn.relu),\n",
        "  tf.keras.layers.Dropout(0.2),\n",
        "  tf.keras.layers.Dense(32, activation=tf.nn.relu),\n",
        "  tf.keras.layers.Dropout(0.2),\n",
        "  tf.keras.layers.Dense(16, activation=tf.nn.softmax),\n",
        "  tf.keras.layers.Dropout(0.2),\n",
        "  tf.keras.layers.Dense(10, activation=tf.nn.softmax)\n",
        "])\n",
        "model.compile(optimizer='SGD',\n",
        "              loss='sparse_categorical_crossentropy',\n",
        "              metrics=['accuracy'])\n",
        "\n",
        "model.fit(x_train, y_train, epochs=5)\n",
        "model.evaluate(x_test, y_test)"
      ],
      "execution_count": 0,
      "outputs": []
    },
    {
      "cell_type": "markdown",
      "metadata": {
        "id": "RU3xPC-tFzbh",
        "colab_type": "text"
      },
      "source": [
        "# 学習率を変更する\n",
        "\n",
        "デフォルtの学習率（たぶんlr = 1）を100のように極端に大きい値にすると収束しなくなり、0.0001のように極端に小さい値にすると学習が進まなくなる。"
      ]
    },
    {
      "cell_type": "code",
      "metadata": {
        "id": "-dne8AkCFzbm",
        "colab_type": "code",
        "colab": {}
      },
      "source": [
        "import tensorflow as tf\n",
        "mnist = tf.keras.datasets.mnist\n",
        "\n",
        "(x_train, y_train),(x_test, y_test) = mnist.load_data()\n",
        "x_train, x_test = x_train / 255.0, x_test / 255.0\n",
        "\n",
        "model = tf.keras.models.Sequential([\n",
        "  tf.keras.layers.Flatten(input_shape=(28, 28)),\n",
        "  tf.keras.layers.Dense(512, activation=tf.nn.relu),\n",
        "  tf.keras.layers.Dropout(0.2),\n",
        "  tf.keras.layers.Dense(10, activation=tf.nn.softmax)\n",
        "])\n",
        "model.compile(optimizer=tf.keras.optimizers.SGD(lr=0.00001),\n",
        "              loss='sparse_categorical_crossentropy',\n",
        "              metrics=['accuracy'])\n",
        "\n",
        "model.fit(x_train, y_train, epochs=5)\n",
        "model.evaluate(x_test, y_test)"
      ],
      "execution_count": 0,
      "outputs": []
    },
    {
      "cell_type": "markdown",
      "metadata": {
        "id": "F7bLXzX6Fzbz",
        "colab_type": "text"
      },
      "source": [
        "# このモデルの最適値？\n",
        "\n",
        "最適値と考えられる層の数、学習率、optimizerが決まったら、長めに学習させてみる。"
      ]
    },
    {
      "cell_type": "code",
      "metadata": {
        "id": "j-PJXK0CFzb2",
        "colab_type": "code",
        "colab": {}
      },
      "source": [
        "import tensorflow as tf\n",
        "mnist = tf.keras.datasets.mnist\n",
        "\n",
        "(x_train, y_train),(x_test, y_test) = mnist.load_data()\n",
        "x_train, x_test = x_train / 255.0, x_test / 255.0\n",
        "\n",
        "model = tf.keras.models.Sequential([\n",
        "  tf.keras.layers.Flatten(input_shape=(28, 28)),\n",
        "  tf.keras.layers.Dense(512, activation=tf.nn.relu),\n",
        "  tf.keras.layers.Dropout(0.2),\n",
        "  tf.keras.layers.Dense(256, activation=tf.nn.relu),\n",
        "  tf.keras.layers.Dropout(0.2),\n",
        "  tf.keras.layers.Dense(10, activation=tf.nn.softmax)\n",
        "])\n",
        "model.compile(optimizer='adam',\n",
        "              loss='sparse_categorical_crossentropy',\n",
        "              metrics=['accuracy'])\n",
        "\n",
        "model.fit(x_train, y_train, epochs=20)\n",
        "model.evaluate(x_test, y_test)"
      ],
      "execution_count": 0,
      "outputs": []
    }
  ]
}